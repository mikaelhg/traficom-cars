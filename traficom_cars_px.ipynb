{
 "cells": [
  {
   "cell_type": "markdown",
   "metadata": {},
   "source": [
    "# Traficom PC-Axis POC"
   ]
  },
  {
   "cell_type": "code",
   "execution_count": 136,
   "metadata": {},
   "outputs": [],
   "source": [
    "import pandas as pd\n",
    "import numpy as np\n",
    "from pyaxis import pyaxis"
   ]
  },
  {
   "cell_type": "code",
   "execution_count": 21,
   "metadata": {},
   "outputs": [],
   "source": [
    "def multiIndex_pivot(df, index = None, columns = None, values = None):\n",
    "    # https://github.com/pandas-dev/pandas/issues/23955\n",
    "    output_df = df.copy(deep = True)\n",
    "    if index is None:\n",
    "        names = list(output_df.index.names)\n",
    "        output_df = output_df.reset_index()\n",
    "    else:\n",
    "        names = index\n",
    "    output_df = output_df.assign(tuples_index = [tuple(i) for i in output_df[names].values])\n",
    "    if isinstance(columns, list):\n",
    "        output_df = output_df.assign(tuples_columns = [tuple(i) for i in output_df[columns].values])  # hashable\n",
    "        output_df = output_df.pivot(index = 'tuples_index', columns = 'tuples_columns', values = values) \n",
    "        output_df.columns = pd.MultiIndex.from_tuples(output_df.columns, names = columns)  # reduced\n",
    "    else:\n",
    "        output_df = output_df.pivot(index = 'tuples_index', columns = columns, values = values)    \n",
    "    output_df.index = pd.MultiIndex.from_tuples(output_df.index, names = names)\n",
    "    return output_df\n"
   ]
  },
  {
   "cell_type": "code",
   "execution_count": 152,
   "metadata": {
    "tags": [
     "outputPrepend"
    ]
   },
   "outputs": [
    {
     "output_type": "stream",
     "name": "stdout",
     "text": "Katsastusvuosi Merkki ja mallisarja  Käyttöönottovuosi  \\\n7708              2017           Citroen C8               2005   \n110097            2019              Mazda 2               2013   \n103854            2019       Hyundai SONATA               2013   \n4438              2017     Chevrolet CAMARO               2004   \n21946             2017           Mazda CX-3               2010   \n\n                        Tiedot  DATA  \n7708                Hyväksytyt   NaN  \n110097               Hylkäys-%   NaN  \n103854  Katsastusten lukumäärä   NaN  \n4438                Hyväksytyt   NaN  \n21946               Hyväksytyt   NaN  \n"
    }
   ],
   "source": [
    "\n",
    "px = pyaxis.parse('/home/mikael/Downloads/katsastus_3.px', encoding='ISO-8859-2')\n",
    "df = px['DATA']\n",
    "\n",
    "df['Katsastusvuosi'] = df['Katsastusvuosi'].astype('int16')\n",
    "df = df[~df['Käyttöönottovuosi'].str.contains('yhteens')]\n",
    "df['Käyttöönottovuosi'] = df['Käyttöönottovuosi'].astype('int16', errors='ignore')\n",
    "df = df[~df['Merkki ja mallisarja'].str.contains('yhteens')]\n",
    "#df = df.infer_objects()\n",
    "#df['DATA'] = df['DATA'].astype('Int64')\n",
    "df['DATA'] = pd.to_numeric(df['DATA'])\n",
    "\n",
    "print(df.sample(5))\n",
    "\n",
    "df = df.pipe(multiIndex_pivot,\n",
    "    index = ['Katsastusvuosi', 'Käyttöönottovuosi', 'Merkki ja mallisarja'],\n",
    "    columns = ['Tiedot'],\n",
    "    values = 'DATA')\n",
    "\n",
    "df.to_pickle('/home/mikael/Downloads/katsastus_3.pickle.bz2', compression='bz2')\n"
   ]
  },
  {
   "cell_type": "code",
   "execution_count": 153,
   "metadata": {},
   "outputs": [
    {
     "output_type": "execute_result",
     "data": {
      "text/plain": "Tiedot                                                Ajettujen kilometrien keskiarvo  \\\nKatsastusvuosi Käyttöönottovuosi Merkki ja mallisarja                                   \n2017           2002              Alfa Romeo 147                              180000.0   \n                                 Alfa Romeo 156                              209000.0   \n                                 Alfa Romeo 159                                   NaN   \n                                 Alfa Romeo GIULIETTA                             NaN   \n                                 Alfa Romeo GT                                    NaN   \n...                                                                               ...   \n2019           2016              Volvo V70                                   121919.0   \n                                 Volvo V90                                    93571.0   \n                                 Volvo XC60                                   77012.0   \n                                 Volvo XC70                                   96777.0   \n                                 Volvo XC90                                   71800.0   \n\nTiedot                                                Ajettujen kilometrien mediaani  \\\nKatsastusvuosi Käyttöönottovuosi Merkki ja mallisarja                                  \n2017           2002              Alfa Romeo 147                             179000.0   \n                                 Alfa Romeo 156                             214000.0   \n                                 Alfa Romeo 159                                  NaN   \n                                 Alfa Romeo GIULIETTA                            NaN   \n                                 Alfa Romeo GT                                   NaN   \n...                                                                              ...   \n2019           2016              Volvo V70                                   90125.0   \n                                 Volvo V90                                   79184.0   \n                                 Volvo XC60                                  70641.0   \n                                 Volvo XC70                                  81461.0   \n                                 Volvo XC90                                  68949.0   \n\nTiedot                                                Hylkäys-% Hylätyt  \\\nKatsastusvuosi Käyttöönottovuosi Merkki ja mallisarja                     \n2017           2002              Alfa Romeo 147            54.0    54.0   \n                                 Alfa Romeo 156            43.0    55.0   \n                                 Alfa Romeo 159             NaN     NaN   \n                                 Alfa Romeo GIULIETTA       NaN     NaN   \n                                 Alfa Romeo GT              NaN     NaN   \n...                                                         ...     ...   \n2019           2016              Volvo V70                  7.0    27.0   \n                                 Volvo V90                  3.0    11.0   \n                                 Volvo XC60                 1.0    11.0   \n                                 Volvo XC70                 1.0     4.0   \n                                 Volvo XC90                 2.0     7.0   \n\nTiedot                                                Hyväksytyt  \\\nKatsastusvuosi Käyttöönottovuosi Merkki ja mallisarja              \n2017           2002              Alfa Romeo 147             47.0   \n                                 Alfa Romeo 156             72.0   \n                                 Alfa Romeo 159              NaN   \n                                 Alfa Romeo GIULIETTA        NaN   \n                                 Alfa Romeo GT               NaN   \n...                                                          ...   \n2019           2016              Volvo V70                 363.0   \n                                 Volvo V90                 422.0   \n                                 Volvo XC60               1161.0   \n                                 Volvo XC70                309.0   \n                                 Volvo XC90                447.0   \n\nTiedot                                                Katsastusten lukumäärä  \nKatsastusvuosi Käyttöönottovuosi Merkki ja mallisarja                         \n2017           2002              Alfa Romeo 147                        101.0  \n                                 Alfa Romeo 156                        127.0  \n                                 Alfa Romeo 159                          NaN  \n                                 Alfa Romeo GIULIETTA                    NaN  \n                                 Alfa Romeo GT                           NaN  \n...                                                                      ...  \n2019           2016              Volvo V70                             390.0  \n                                 Volvo V90                             433.0  \n                                 Volvo XC60                           1172.0  \n                                 Volvo XC70                            313.0  \n                                 Volvo XC90                            454.0  \n\n[18675 rows x 6 columns]",
      "text/html": "<div>\n<style scoped>\n    .dataframe tbody tr th:only-of-type {\n        vertical-align: middle;\n    }\n\n    .dataframe tbody tr th {\n        vertical-align: top;\n    }\n\n    .dataframe thead tr th {\n        text-align: left;\n    }\n\n    .dataframe thead tr:last-of-type th {\n        text-align: right;\n    }\n</style>\n<table border=\"1\" class=\"dataframe\">\n  <thead>\n    <tr>\n      <th></th>\n      <th></th>\n      <th>Tiedot</th>\n      <th>Ajettujen kilometrien keskiarvo</th>\n      <th>Ajettujen kilometrien mediaani</th>\n      <th>Hylkäys-%</th>\n      <th>Hylätyt</th>\n      <th>Hyväksytyt</th>\n      <th>Katsastusten lukumäärä</th>\n    </tr>\n    <tr>\n      <th>Katsastusvuosi</th>\n      <th>Käyttöönottovuosi</th>\n      <th>Merkki ja mallisarja</th>\n      <th></th>\n      <th></th>\n      <th></th>\n      <th></th>\n      <th></th>\n      <th></th>\n    </tr>\n  </thead>\n  <tbody>\n    <tr>\n      <th rowspan=\"5\" valign=\"top\">2017</th>\n      <th rowspan=\"5\" valign=\"top\">2002</th>\n      <th>Alfa Romeo 147</th>\n      <td>180000.0</td>\n      <td>179000.0</td>\n      <td>54.0</td>\n      <td>54.0</td>\n      <td>47.0</td>\n      <td>101.0</td>\n    </tr>\n    <tr>\n      <th>Alfa Romeo 156</th>\n      <td>209000.0</td>\n      <td>214000.0</td>\n      <td>43.0</td>\n      <td>55.0</td>\n      <td>72.0</td>\n      <td>127.0</td>\n    </tr>\n    <tr>\n      <th>Alfa Romeo 159</th>\n      <td>NaN</td>\n      <td>NaN</td>\n      <td>NaN</td>\n      <td>NaN</td>\n      <td>NaN</td>\n      <td>NaN</td>\n    </tr>\n    <tr>\n      <th>Alfa Romeo GIULIETTA</th>\n      <td>NaN</td>\n      <td>NaN</td>\n      <td>NaN</td>\n      <td>NaN</td>\n      <td>NaN</td>\n      <td>NaN</td>\n    </tr>\n    <tr>\n      <th>Alfa Romeo GT</th>\n      <td>NaN</td>\n      <td>NaN</td>\n      <td>NaN</td>\n      <td>NaN</td>\n      <td>NaN</td>\n      <td>NaN</td>\n    </tr>\n    <tr>\n      <th>...</th>\n      <th>...</th>\n      <th>...</th>\n      <td>...</td>\n      <td>...</td>\n      <td>...</td>\n      <td>...</td>\n      <td>...</td>\n      <td>...</td>\n    </tr>\n    <tr>\n      <th rowspan=\"5\" valign=\"top\">2019</th>\n      <th rowspan=\"5\" valign=\"top\">2016</th>\n      <th>Volvo V70</th>\n      <td>121919.0</td>\n      <td>90125.0</td>\n      <td>7.0</td>\n      <td>27.0</td>\n      <td>363.0</td>\n      <td>390.0</td>\n    </tr>\n    <tr>\n      <th>Volvo V90</th>\n      <td>93571.0</td>\n      <td>79184.0</td>\n      <td>3.0</td>\n      <td>11.0</td>\n      <td>422.0</td>\n      <td>433.0</td>\n    </tr>\n    <tr>\n      <th>Volvo XC60</th>\n      <td>77012.0</td>\n      <td>70641.0</td>\n      <td>1.0</td>\n      <td>11.0</td>\n      <td>1161.0</td>\n      <td>1172.0</td>\n    </tr>\n    <tr>\n      <th>Volvo XC70</th>\n      <td>96777.0</td>\n      <td>81461.0</td>\n      <td>1.0</td>\n      <td>4.0</td>\n      <td>309.0</td>\n      <td>313.0</td>\n    </tr>\n    <tr>\n      <th>Volvo XC90</th>\n      <td>71800.0</td>\n      <td>68949.0</td>\n      <td>2.0</td>\n      <td>7.0</td>\n      <td>447.0</td>\n      <td>454.0</td>\n    </tr>\n  </tbody>\n</table>\n<p>18675 rows × 6 columns</p>\n</div>"
     },
     "metadata": {},
     "execution_count": 153
    }
   ],
   "source": [
    "df = pd.read_pickle('/home/mikael/Downloads/katsastus_3.pickle.bz2')\n",
    "#df = df.apply(pd.to_numeric)\n",
    "#df.dtypes\n",
    "df"
   ]
  },
  {
   "cell_type": "code",
   "execution_count": 140,
   "metadata": {},
   "outputs": [
    {
     "output_type": "execute_result",
     "data": {
      "text/plain": "MultiIndex([(2017, 2002,       'Alfa Romeo 147'),\n            (2017, 2002,       'Alfa Romeo 156'),\n            (2017, 2002,       'Alfa Romeo 159'),\n            (2017, 2002, 'Alfa Romeo GIULIETTA'),\n            (2017, 2002,        'Alfa Romeo GT'),\n            (2017, 2002,      'Alfa Romeo MITO'),\n            (2017, 2002,              'Audi A1'),\n            (2017, 2002,              'Audi A2'),\n            (2017, 2002,              'Audi A3'),\n            (2017, 2002,              'Audi A4'),\n            ...\n            (2019, 2016,            'Volvo S80'),\n            (2019, 2016,            'Volvo S90'),\n            (2019, 2016,            'Volvo V40'),\n            (2019, 2016,            'Volvo V50'),\n            (2019, 2016,            'Volvo V60'),\n            (2019, 2016,            'Volvo V70'),\n            (2019, 2016,            'Volvo V90'),\n            (2019, 2016,           'Volvo XC60'),\n            (2019, 2016,           'Volvo XC70'),\n            (2019, 2016,           'Volvo XC90')],\n           names=['Katsastusvuosi', 'Käyttöönottovuosi', 'Merkki ja mallisarja'], length=18675)"
     },
     "metadata": {},
     "execution_count": 140
    }
   ],
   "source": [
    "#df.loc[(['2017'], ['2002'], ['Alfa Romeo 147'])]\n",
    "df.index\n",
    "#ind = df['Merkki ja mallisarja']\n",
    "#ind\n",
    "#df[~df['Merkki ja mallisarja'].str.contains('yhteens')]"
   ]
  },
  {
   "cell_type": "code",
   "execution_count": null,
   "metadata": {},
   "outputs": [],
   "source": []
  }
 ],
 "metadata": {
  "language_info": {
   "codemirror_mode": {
    "name": "ipython",
    "version": 3
   },
   "file_extension": ".py",
   "mimetype": "text/x-python",
   "name": "python",
   "nbconvert_exporter": "python",
   "pygments_lexer": "ipython3",
   "version": "3.7.6-final"
  },
  "orig_nbformat": 2,
  "kernelspec": {
   "name": "python37664bittraficomcarspipenve4b7b2fcbb5c4d69adfe37d6df9fcbd5",
   "display_name": "Python 3.7.6 64-bit ('traficom-cars': pipenv)"
  }
 },
 "nbformat": 4,
 "nbformat_minor": 2
}