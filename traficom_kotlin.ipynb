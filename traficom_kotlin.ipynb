{
 "cells": [
  {
   "cell_type": "code",
   "execution_count": 6,
   "metadata": {},
   "outputs": [],
   "source": [
    "%use krangl, kravis"
   ]
  },
  {
   "cell_type": "code",
   "execution_count": 12,
   "metadata": {},
   "outputs": [],
   "source": [
    "val data = mutableMapOf<Int, DataFrame>()\n",
    "for (i in 2015..2019) {\n",
    "    data[i] = DataFrame.readCSV(\"data/Henkilöautojen-määräaikaiskatsastusten-vuositilasto-$i.csv\")\n",
    "}"
   ]
  },
  {
   "cell_type": "code",
   "execution_count": 15,
   "metadata": {},
   "outputs": [
    {
     "data": {
      "text/html": [
       "<html><body><table><tr><th style=\"text-align:left\"></th><th style=\"text-align:left\">model_year</th><th style=\"text-align:left\">brand</th><th style=\"text-align:left\">model</th><th style=\"text-align:left\">checked_cars</th><th style=\"text-align:left\">fail_pct</th><th style=\"text-align:left\">driven_avg</th><th style=\"text-align:left\">driven_med</th><th style=\"text-align:left\">reason_1</th><th style=\"text-align:left\">reason_2</th><th style=\"text-align:left\">reason_3</th></tr><tr><td style=\"text-align:left\" title=\"380\">380</td><td style=\"text-align:left\" title=\"2005\">2005</td><td style=\"text-align:left\" title=\"Toyota\">Toyota</td><td style=\"text-align:left\" title=\"PRIUS\">PRIUS</td><td style=\"text-align:left\" title=\"111\">111</td><td style=\"text-align:left\" title=\"12.61\">12.61</td><td style=\"text-align:left\" title=\"219000\">219000</td><td style=\"text-align:left\" title=\"214000\">214000</td><td style=\"text-align:left\" title=\"\"></td><td style=\"text-align:left\" title=\"\"></td><td style=\"text-align:left\" title=\"\"></td></tr><tr><td style=\"text-align:left\" title=\"530\">530</td><td style=\"text-align:left\" title=\"2006\">2006</td><td style=\"text-align:left\" title=\"Toyota\">Toyota</td><td style=\"text-align:left\" title=\"PRIUS\">PRIUS</td><td style=\"text-align:left\" title=\"109\">109</td><td style=\"text-align:left\" title=\"28.44\">28.44</td><td style=\"text-align:left\" title=\"224000\">224000</td><td style=\"text-align:left\" title=\"218000\">218000</td><td style=\"text-align:left\" title=\"Jousitus ja iskunvaimennus\">Jousitus ja iskunvaimennus</td><td style=\"text-align:left\" title=\"\"></td><td style=\"text-align:left\" title=\"\"></td></tr><tr><td style=\"text-align:left\" title=\"689\">689</td><td style=\"text-align:left\" title=\"2007\">2007</td><td style=\"text-align:left\" title=\"Toyota\">Toyota</td><td style=\"text-align:left\" title=\"PRIUS\">PRIUS</td><td style=\"text-align:left\" title=\"168\">168</td><td style=\"text-align:left\" title=\"22.02\">22.02</td><td style=\"text-align:left\" title=\"197000\">197000</td><td style=\"text-align:left\" title=\"180000\">180000</td><td style=\"text-align:left\" title=\"Jousitus ja iskunvaimennus\">Jousitus ja iskunvaimennus</td><td style=\"text-align:left\" title=\"\"></td><td style=\"text-align:left\" title=\"\"></td></tr><tr><td style=\"text-align:left\" title=\"844\">844</td><td style=\"text-align:left\" title=\"2008\">2008</td><td style=\"text-align:left\" title=\"Toyota\">Toyota</td><td style=\"text-align:left\" title=\"PRIUS\">PRIUS</td><td style=\"text-align:left\" title=\"762\">762</td><td style=\"text-align:left\" title=\"11.02\">11.02</td><td style=\"text-align:left\" title=\"176000\">176000</td><td style=\"text-align:left\" title=\"165000\">165000</td><td style=\"text-align:left\" title=\"Käyttöjarru\">Käyttöjarru</td><td style=\"text-align:left\" title=\"Etuakselisto\">Etuakselisto</td><td style=\"text-align:left\" title=\"\"></td></tr><tr><td style=\"text-align:left\" title=\"979\">979</td><td style=\"text-align:left\" title=\"2009\">2009</td><td style=\"text-align:left\" title=\"Toyota\">Toyota</td><td style=\"text-align:left\" title=\"PRIUS\">PRIUS</td><td style=\"text-align:left\" title=\"660\">660</td><td style=\"text-align:left\" title=\"8.03\">8.03</td><td style=\"text-align:left\" title=\"163000\">163000</td><td style=\"text-align:left\" title=\"153000\">153000</td><td style=\"text-align:left\" title=\"Käyttöjarru\">Käyttöjarru</td><td style=\"text-align:left\" title=\"Etuakselisto\">Etuakselisto</td><td style=\"text-align:left\" title=\"\"></td></tr><tr><td style=\"text-align:left\" title=\"1121\">1121</td><td style=\"text-align:left\" title=\"2010\">2010</td><td style=\"text-align:left\" title=\"Toyota\">Toyota</td><td style=\"text-align:left\" title=\"PRIUS\">PRIUS</td><td style=\"text-align:left\" title=\"561\">561</td><td style=\"text-align:left\" title=\"6.77\">6.77</td><td style=\"text-align:left\" title=\"143000\">143000</td><td style=\"text-align:left\" title=\"141000\">141000</td><td style=\"text-align:left\" title=\"Seisontajarrun dynamometritesti\">Seisontajarrun dynamometritesti</td><td style=\"text-align:left\" title=\"Käyttöjarru\">Käyttöjarru</td><td style=\"text-align:left\" title=\"Renkaat ja vanteet\">Renkaat ja vanteet</td></tr><tr><td style=\"text-align:left\" title=\"1273\">1273</td><td style=\"text-align:left\" title=\"2011\">2011</td><td style=\"text-align:left\" title=\"Toyota\">Toyota</td><td style=\"text-align:left\" title=\"PRIUS\">PRIUS</td><td style=\"text-align:left\" title=\"253\">253</td><td style=\"text-align:left\" title=\"9.09\">9.09</td><td style=\"text-align:left\" title=\"127000\">127000</td><td style=\"text-align:left\" title=\"116000\">116000</td><td style=\"text-align:left\" title=\"\"></td><td style=\"text-align:left\" title=\"\"></td><td style=\"text-align:left\" title=\"\"></td></tr><tr><td style=\"text-align:left\" title=\"1423\">1423</td><td style=\"text-align:left\" title=\"2012\">2012</td><td style=\"text-align:left\" title=\"Toyota\">Toyota</td><td style=\"text-align:left\" title=\"PRIUS\">PRIUS</td><td style=\"text-align:left\" title=\"325\">325</td><td style=\"text-align:left\" title=\"3.08\">3.08</td><td style=\"text-align:left\" title=\"107000\">107000</td><td style=\"text-align:left\" title=\"99000\">99000</td><td style=\"text-align:left\" title=\"\"></td><td style=\"text-align:left\" title=\"\"></td><td style=\"text-align:left\" title=\"\"></td></tr><tr><td style=\"text-align:left\" title=\"1565\">1565</td><td style=\"text-align:left\" title=\"2013\">2013</td><td style=\"text-align:left\" title=\"Toyota\">Toyota</td><td style=\"text-align:left\" title=\"PRIUS\">PRIUS</td><td style=\"text-align:left\" title=\"170\">170</td><td style=\"text-align:left\" title=\"3.53\">3.53</td><td style=\"text-align:left\" title=\"97000\">97000</td><td style=\"text-align:left\" title=\"83000\">83000</td><td style=\"text-align:left\" title=\"\"></td><td style=\"text-align:left\" title=\"\"></td><td style=\"text-align:left\" title=\"\"></td></tr></table></body></html>"
      ]
     },
     "execution_count": 15,
     "metadata": {},
     "output_type": "execute_result"
    }
   ],
   "source": [
    "data[2018]!!.filter { (it[\"brand\"] eq \"Toyota\") AND (it[\"model\"] eq \"PRIUS\") }"
   ]
  },
  {
   "cell_type": "code",
   "execution_count": 16,
   "metadata": {},
   "outputs": [
    {
     "data": {
      "text/html": [
       "<html><body><table><tr><th style=\"text-align:left\"></th><th style=\"text-align:left\">model_year</th><th style=\"text-align:left\">brand</th><th style=\"text-align:left\">model</th><th style=\"text-align:left\">checked_cars</th><th style=\"text-align:left\">fail_pct</th><th style=\"text-align:left\">driven_avg</th><th style=\"text-align:left\">driven_med</th><th style=\"text-align:left\">reason_1</th><th style=\"text-align:left\">reason_2</th><th style=\"text-align:left\">reason_3</th></tr><tr><td style=\"text-align:left\" title=\"114\">114</td><td style=\"text-align:left\" title=\"2004\">2004</td><td style=\"text-align:left\" title=\"Toyota\">Toyota</td><td style=\"text-align:left\" title=\"PRIUS\">PRIUS</td><td style=\"text-align:left\" title=\"101\">101</td><td style=\"text-align:left\" title=\"29.7\">29.7</td><td style=\"text-align:left\" title=\"225000\">225000</td><td style=\"text-align:left\" title=\"230000\">230000</td><td style=\"text-align:left\" title=\"Etuakselisto\">Etuakselisto</td><td style=\"text-align:left\" title=\"\"></td><td style=\"text-align:left\" title=\"\"></td></tr><tr><td style=\"text-align:left\" title=\"257\">257</td><td style=\"text-align:left\" title=\"2005\">2005</td><td style=\"text-align:left\" title=\"Toyota\">Toyota</td><td style=\"text-align:left\" title=\"PRIUS\">PRIUS</td><td style=\"text-align:left\" title=\"110\">110</td><td style=\"text-align:left\" title=\"20.0\">20.0</td><td style=\"text-align:left\" title=\"233000\">233000</td><td style=\"text-align:left\" title=\"231000\">231000</td><td style=\"text-align:left\" title=\"\"></td><td style=\"text-align:left\" title=\"\"></td><td style=\"text-align:left\" title=\"\"></td></tr><tr><td style=\"text-align:left\" title=\"409\">409</td><td style=\"text-align:left\" title=\"2006\">2006</td><td style=\"text-align:left\" title=\"Toyota\">Toyota</td><td style=\"text-align:left\" title=\"PRIUS\">PRIUS</td><td style=\"text-align:left\" title=\"111\">111</td><td style=\"text-align:left\" title=\"29.73\">29.73</td><td style=\"text-align:left\" title=\"231000\">231000</td><td style=\"text-align:left\" title=\"221000\">221000</td><td style=\"text-align:left\" title=\"Jousitus ja iskunvaimennus\">Jousitus ja iskunvaimennus</td><td style=\"text-align:left\" title=\"\"></td><td style=\"text-align:left\" title=\"\"></td></tr><tr><td style=\"text-align:left\" title=\"567\">567</td><td style=\"text-align:left\" title=\"2007\">2007</td><td style=\"text-align:left\" title=\"Toyota\">Toyota</td><td style=\"text-align:left\" title=\"PRIUS\">PRIUS</td><td style=\"text-align:left\" title=\"163\">163</td><td style=\"text-align:left\" title=\"18.4\">18.4</td><td style=\"text-align:left\" title=\"210000\">210000</td><td style=\"text-align:left\" title=\"197000\">197000</td><td style=\"text-align:left\" title=\"Käyttöjarru\">Käyttöjarru</td><td style=\"text-align:left\" title=\"\"></td><td style=\"text-align:left\" title=\"\"></td></tr><tr><td style=\"text-align:left\" title=\"726\">726</td><td style=\"text-align:left\" title=\"2008\">2008</td><td style=\"text-align:left\" title=\"Toyota\">Toyota</td><td style=\"text-align:left\" title=\"PRIUS\">PRIUS</td><td style=\"text-align:left\" title=\"772\">772</td><td style=\"text-align:left\" title=\"13.6\">13.6</td><td style=\"text-align:left\" title=\"191000\">191000</td><td style=\"text-align:left\" title=\"183000\">183000</td><td style=\"text-align:left\" title=\"Käyttöjarru\">Käyttöjarru</td><td style=\"text-align:left\" title=\"Etuakselisto\">Etuakselisto</td><td style=\"text-align:left\" title=\"Sisäinen valvontajärjestelmä (OBD)\">Sisäinen valvontajärjestelmä (OBD)</td></tr><tr><td style=\"text-align:left\" title=\"864\">864</td><td style=\"text-align:left\" title=\"2009\">2009</td><td style=\"text-align:left\" title=\"Toyota\">Toyota</td><td style=\"text-align:left\" title=\"PRIUS\">PRIUS</td><td style=\"text-align:left\" title=\"660\">660</td><td style=\"text-align:left\" title=\"11.82\">11.82</td><td style=\"text-align:left\" title=\"180000\">180000</td><td style=\"text-align:left\" title=\"168000\">168000</td><td style=\"text-align:left\" title=\"Käyttöjarru\">Käyttöjarru</td><td style=\"text-align:left\" title=\"Etuakselisto\">Etuakselisto</td><td style=\"text-align:left\" title=\"\"></td></tr><tr><td style=\"text-align:left\" title=\"965\">965</td><td style=\"text-align:left\" title=\"2010\">2010</td><td style=\"text-align:left\" title=\"Toyota\">Toyota</td><td style=\"text-align:left\" title=\"PRIUS\">PRIUS</td><td style=\"text-align:left\" title=\"348\">348</td><td style=\"text-align:left\" title=\"7.76\">7.76</td><td style=\"text-align:left\" title=\"154000\">154000</td><td style=\"text-align:left\" title=\"149000\">149000</td><td style=\"text-align:left\" title=\"Käyttöjarru\">Käyttöjarru</td><td style=\"text-align:left\" title=\"\"></td><td style=\"text-align:left\" title=\"\"></td></tr><tr><td style=\"text-align:left\" title=\"1081\">1081</td><td style=\"text-align:left\" title=\"2011\">2011</td><td style=\"text-align:left\" title=\"Toyota\">Toyota</td><td style=\"text-align:left\" title=\"PRIUS\">PRIUS</td><td style=\"text-align:left\" title=\"118\">118</td><td style=\"text-align:left\" title=\"5.93\">5.93</td><td style=\"text-align:left\" title=\"133000\">133000</td><td style=\"text-align:left\" title=\"126000\">126000</td><td style=\"text-align:left\" title=\"\"></td><td style=\"text-align:left\" title=\"\"></td><td style=\"text-align:left\" title=\"\"></td></tr><tr><td style=\"text-align:left\" title=\"1198\">1198</td><td style=\"text-align:left\" title=\"2012\">2012</td><td style=\"text-align:left\" title=\"Toyota\">Toyota</td><td style=\"text-align:left\" title=\"PRIUS\">PRIUS</td><td style=\"text-align:left\" title=\"139\">139</td><td style=\"text-align:left\" title=\"5.76\">5.76</td><td style=\"text-align:left\" title=\"123000\">123000</td><td style=\"text-align:left\" title=\"108000\">108000</td><td style=\"text-align:left\" title=\"\"></td><td style=\"text-align:left\" title=\"\"></td><td style=\"text-align:left\" title=\"\"></td></tr><tr><td style=\"text-align:left\" title=\"1307\">1307</td><td style=\"text-align:left\" title=\"2013\">2013</td><td style=\"text-align:left\" title=\"Toyota\">Toyota</td><td style=\"text-align:left\" title=\"PRIUS\">PRIUS</td><td style=\"text-align:left\" title=\"102\">102</td><td style=\"text-align:left\" title=\"9.8\">9.8</td><td style=\"text-align:left\" title=\"104000\">104000</td><td style=\"text-align:left\" title=\"98000\">98000</td><td style=\"text-align:left\" title=\"\"></td><td style=\"text-align:left\" title=\"\"></td><td style=\"text-align:left\" title=\"\"></td></tr><tr><td style=\"text-align:left\" title=\"1626\">1626</td><td style=\"text-align:left\" title=\"2016\">2016</td><td style=\"text-align:left\" title=\"Toyota\">Toyota</td><td style=\"text-align:left\" title=\"PRIUS\">PRIUS</td><td style=\"text-align:left\" title=\"270\">270</td><td style=\"text-align:left\" title=\"1.48\">1.48</td><td style=\"text-align:left\" title=\"50000\">50000</td><td style=\"text-align:left\" title=\"45000\">45000</td><td style=\"text-align:left\" title=\"\"></td><td style=\"text-align:left\" title=\"\"></td><td style=\"text-align:left\" title=\"\"></td></tr></table></body></html>"
      ]
     },
     "execution_count": 16,
     "metadata": {},
     "output_type": "execute_result"
    }
   ],
   "source": [
    "data[2019]!!.filter { (it[\"brand\"] eq \"Toyota\") AND (it[\"model\"] eq \"PRIUS\") }"
   ]
  }
 ],
 "metadata": {
  "kernelspec": {
   "display_name": "Kotlin",
   "language": "kotlin",
   "name": "kotlin"
  },
  "language_info": {
   "codemirror_mode": "text/x-kotlin",
   "file_extension": ".kt",
   "mimetype": "text/x-kotlin",
   "name": "kotlin",
   "pygments_lexer": "kotlin",
   "version": "1.4.0-dev-7568"
  }
 },
 "nbformat": 4,
 "nbformat_minor": 4
}
