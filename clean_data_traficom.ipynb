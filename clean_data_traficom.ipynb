{
 "cells": [
  {
   "cell_type": "code",
   "execution_count": 29,
   "metadata": {},
   "outputs": [],
   "source": [
    "import pandas as pd\n",
    "from openpyxl import load_workbook"
   ]
  },
  {
   "cell_type": "code",
   "execution_count": 120,
   "metadata": {},
   "outputs": [
    {
     "name": "stdout",
     "output_type": "stream",
     "text": [
      "2015\n",
      "2016\n",
      "2017\n",
      "2018\n",
      "2019\n",
      "<class 'pandas.core.frame.DataFrame'>\n",
      "Int64Index: 8206 entries, 0 to 1649\n",
      "Data columns (total 11 columns):\n",
      " #   Column        Non-Null Count  Dtype  \n",
      "---  ------        --------------  -----  \n",
      " 0   data_year     8206 non-null   int64  \n",
      " 1   model_year    8206 non-null   int16  \n",
      " 2   brand         8206 non-null   object \n",
      " 3   model         8206 non-null   object \n",
      " 4   fail_pct      8206 non-null   float16\n",
      " 5   reason_1      7610 non-null   object \n",
      " 6   reason_2      7609 non-null   object \n",
      " 7   reason_3      7605 non-null   object \n",
      " 8   checked_cars  5067 non-null   Int32  \n",
      " 9   driven_avg    5067 non-null   Int32  \n",
      " 10  driven_med    5067 non-null   Int32  \n",
      "dtypes: Int32(3), float16(1), int16(1), int64(1), object(5)\n",
      "memory usage: 601.0+ KB\n",
      "None\n"
     ]
    }
   ],
   "source": [
    "def header_row_number(sheet):\n",
    "    for row in sheet.iter_rows(min_row=1, max_col=8):\n",
    "        if row[1].value and row[1].value == 'Merkki':\n",
    "            return row[1].row\n",
    "    return None\n",
    "\n",
    "COLS = {\n",
    "    'Käyttöönottovuosi': 'model_year',\n",
    "    'Käyttööottovuosi': 'model_year',\n",
    "    'Merkki': 'brand',\n",
    "    'Malli': 'model',\n",
    "    'Hylkäys-%': 'fail_pct',\n",
    "    'Hylkäys %': 'fail_pct',\n",
    "    \"Katsastusten lukumäärä\": 'checked_cars',\n",
    "    \"Ajettujen kilometrien keskiarvo\": 'driven_avg',\n",
    "    \"Ajettujen kilometrien mediaani\": 'driven_med',\n",
    "    \"Yleisin hylkäyssyy\": 'reason_1',\n",
    "    \"Toiseksi yleisin hylkäyssyy\": 'reason_2',\n",
    "    \"Kolmanneksi yleisin hylkäyssyy\": 'reason_3',\n",
    "}\n",
    "\n",
    "def should_keep(row):\n",
    "    w = 'yhteensä'\n",
    "    return not (w in str(row[0].value) or w in str(row[1].value) or w in str(row[2].value))\n",
    "\n",
    "def clean_value(c):\n",
    "    if not c:\n",
    "        return None\n",
    "    if isinstance(c.value, str):\n",
    "        return c.value.replace(\"\\n\", \" \")\n",
    "    else:\n",
    "        return c.value\n",
    "\n",
    "dfs = []\n",
    "    \n",
    "for y in range(2015, 2020):\n",
    "    print(y)\n",
    "    fn_xlsx = f'data/Henkilöautojen-määräaikaiskatsastusten-vuositilasto-{y}.xlsx'\n",
    "    fn_csv = f'data/Henkilöautojen-määräaikaiskatsastusten-vuositilasto-{y}.csv'\n",
    "    wb = load_workbook(filename = fn_xlsx, read_only=True)\n",
    "    sheet = wb.active\n",
    "    header_row = header_row_number(sheet)\n",
    "    table = [[clean_value(c) for c in r] \\\n",
    "                 for r in sheet.iter_rows(min_row=header_row, max_col=10) \\\n",
    "                     if should_keep(r)]\n",
    "    \n",
    "    df = pd.DataFrame(data=table[1:], columns=table[0])\n",
    "    df.rename(inplace=True, columns=COLS)\n",
    "    for k in df.keys():\n",
    "        if k and k not in COLS.values():\n",
    "            df.drop(inplace=True, columns=[k])\n",
    "    df.dropna(inplace=True, axis=1, how='all')\n",
    "    df = df.astype(dtype={'model_year': 'int16', 'brand': 'category', 'model': 'category', 'fail_pct': 'Float16'})\n",
    "    df.insert(0, 'data_year', y)\n",
    "    \n",
    "    df.to_csv(fn_csv, index=False)\n",
    "    dfs.append(df)\n",
    "\n",
    "df_all = pd.concat(dfs)\n",
    "df_all = df_all.astype(errors='ignore', dtype={'checked_cars': 'Int32', 'driven_avg': 'Int32', 'driven_med': 'Int32'})\n",
    "df_all.to_csv('data/traficom_all.csv', index=False)\n",
    "\n",
    "print(df_all.info())"
   ]
  }
 ],
 "metadata": {
  "kernelspec": {
   "display_name": "Python 3.7.6 64-bit ('traficom-cars': pipenv)",
   "language": "python",
   "name": "python37664bittraficomcarspipenve4b7b2fcbb5c4d69adfe37d6df9fcbd5"
  },
  "language_info": {
   "codemirror_mode": {
    "name": "ipython",
    "version": 3
   },
   "file_extension": ".py",
   "mimetype": "text/x-python",
   "name": "python",
   "nbconvert_exporter": "python",
   "pygments_lexer": "ipython3",
   "version": "3.7.6"
  }
 },
 "nbformat": 4,
 "nbformat_minor": 4
}
